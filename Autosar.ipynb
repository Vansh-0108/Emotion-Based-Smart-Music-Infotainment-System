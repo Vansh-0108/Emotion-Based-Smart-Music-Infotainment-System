{
 "cells": [
  {
   "cell_type": "code",
   "execution_count": 9,
   "id": "d727e153-a205-486e-9f3a-708cc6178c8b",
   "metadata": {},
   "outputs": [],
   "source": [
    "from keras.utils import to_categorical\n",
    "from keras_preprocessing.image import load_img\n",
    "from keras.models import Sequential\n",
    "from keras.layers import Dense, Conv2D, Dropout, Flatten, MaxPooling2D\n",
    "import os\n",
    "import pandas as pd\n",
    "import numpy as np"
   ]
  },
  {
   "cell_type": "code",
   "execution_count": 10,
   "id": "15be7999-5d8d-41c9-982c-0a56d7a532cf",
   "metadata": {},
   "outputs": [],
   "source": [
    "TRAIN_DIR = 'images/train'\n",
    "TEST_DIR = 'images/test'"
   ]
  },
  {
   "cell_type": "code",
   "execution_count": 11,
   "id": "bd67874e-ed93-4c86-a4fd-149ee4a2050f",
   "metadata": {},
   "outputs": [],
   "source": [
    "def createdataframe(dir):\n",
    "    image_paths = []\n",
    "    labels = []\n",
    "    for label in os.listdir(dir):\n",
    "        for imagename in os.listdir(os.path.join(dir,label)):\n",
    "            image_paths.append(os.path.join(dir,label,imagename))\n",
    "            labels.append(label)\n",
    "        print(label, \"completed\")\n",
    "    return image_paths,labels"
   ]
  },
  {
   "cell_type": "code",
   "execution_count": 12,
   "id": "525c6f0d-aa17-4387-872d-e38f7f704604",
   "metadata": {},
   "outputs": [
    {
     "name": "stdout",
     "output_type": "stream",
     "text": [
      "angry completed\n",
      "disgust completed\n",
      "fear completed\n",
      "happy completed\n",
      "neutral completed\n",
      "sad completed\n",
      "surprise completed\n"
     ]
    }
   ],
   "source": [
    "train = pd.DataFrame()\n",
    "train['image'], train['label'] = createdataframe(TRAIN_DIR)"
   ]
  },
  {
   "cell_type": "code",
   "execution_count": 13,
   "id": "6d9953f7-fa99-4008-92bf-2ec13178d270",
   "metadata": {},
   "outputs": [
    {
     "name": "stdout",
     "output_type": "stream",
     "text": [
      "                                image     label\n",
      "0            images/train\\angry\\0.jpg     angry\n",
      "1            images/train\\angry\\1.jpg     angry\n",
      "2           images/train\\angry\\10.jpg     angry\n",
      "3        images/train\\angry\\10002.jpg     angry\n",
      "4        images/train\\angry\\10016.jpg     angry\n",
      "...                               ...       ...\n",
      "28816  images/train\\surprise\\9969.jpg  surprise\n",
      "28817  images/train\\surprise\\9985.jpg  surprise\n",
      "28818  images/train\\surprise\\9990.jpg  surprise\n",
      "28819  images/train\\surprise\\9992.jpg  surprise\n",
      "28820  images/train\\surprise\\9996.jpg  surprise\n",
      "\n",
      "[28821 rows x 2 columns]\n"
     ]
    }
   ],
   "source": [
    "print(train)"
   ]
  },
  {
   "cell_type": "code",
   "execution_count": 14,
   "id": "4cb4d951-791a-4d46-a209-8f11139267af",
   "metadata": {},
   "outputs": [
    {
     "name": "stdout",
     "output_type": "stream",
     "text": [
      "angry completed\n",
      "disgust completed\n",
      "fear completed\n",
      "happy completed\n",
      "neutral completed\n",
      "sad completed\n",
      "surprise completed\n"
     ]
    }
   ],
   "source": [
    "test = pd.DataFrame()\n",
    "test['image'], test['label'] = createdataframe(TEST_DIR)"
   ]
  },
  {
   "cell_type": "code",
   "execution_count": 15,
   "id": "0d389645-cd6c-4799-9d37-a4f4c2b4be90",
   "metadata": {},
   "outputs": [
    {
     "name": "stdout",
     "output_type": "stream",
     "text": [
      "                              image     label\n",
      "0       images/test\\angry\\10052.jpg     angry\n",
      "1       images/test\\angry\\10065.jpg     angry\n",
      "2       images/test\\angry\\10079.jpg     angry\n",
      "3       images/test\\angry\\10095.jpg     angry\n",
      "4       images/test\\angry\\10121.jpg     angry\n",
      "...                             ...       ...\n",
      "7061  images/test\\surprise\\9806.jpg  surprise\n",
      "7062  images/test\\surprise\\9830.jpg  surprise\n",
      "7063  images/test\\surprise\\9853.jpg  surprise\n",
      "7064  images/test\\surprise\\9878.jpg  surprise\n",
      "7065   images/test\\surprise\\993.jpg  surprise\n",
      "\n",
      "[7066 rows x 2 columns]\n",
      "0         images/test\\angry\\10052.jpg\n",
      "1         images/test\\angry\\10065.jpg\n",
      "2         images/test\\angry\\10079.jpg\n",
      "3         images/test\\angry\\10095.jpg\n",
      "4         images/test\\angry\\10121.jpg\n",
      "                    ...              \n",
      "7061    images/test\\surprise\\9806.jpg\n",
      "7062    images/test\\surprise\\9830.jpg\n",
      "7063    images/test\\surprise\\9853.jpg\n",
      "7064    images/test\\surprise\\9878.jpg\n",
      "7065     images/test\\surprise\\993.jpg\n",
      "Name: image, Length: 7066, dtype: object\n"
     ]
    }
   ],
   "source": [
    "print(test)\n",
    "print(test['image'])"
   ]
  },
  {
   "cell_type": "code",
   "execution_count": 16,
   "id": "1cceb135-8de3-46ec-b5c0-e58e68abe967",
   "metadata": {},
   "outputs": [],
   "source": [
    "from tqdm.notebook import tqdm"
   ]
  },
  {
   "cell_type": "code",
   "execution_count": 17,
   "id": "05c9a3e0-343d-4b11-ae9d-8d7d5470ab8a",
   "metadata": {},
   "outputs": [],
   "source": [
    "def extract_features(images):\n",
    "    features = []\n",
    "    for image in tqdm(images):\n",
    "        img = load_img(image,grayscale =  True )\n",
    "        img = np.array(img)\n",
    "        features.append(img)\n",
    "    features = np.array(features)\n",
    "    features = features.reshape(len(features),48,48,1)\n",
    "    return features\n",
    "    "
   ]
  },
  {
   "cell_type": "code",
   "execution_count": 18,
   "id": "d58f4b3d-82f7-4823-83a0-db3f0fa3bed0",
   "metadata": {},
   "outputs": [
    {
     "data": {
      "application/vnd.jupyter.widget-view+json": {
       "model_id": "7812f5754ce341df9c97b5f3d606d686",
       "version_major": 2,
       "version_minor": 0
      },
      "text/plain": [
       "  0%|          | 0/28821 [00:00<?, ?it/s]"
      ]
     },
     "metadata": {},
     "output_type": "display_data"
    },
    {
     "name": "stderr",
     "output_type": "stream",
     "text": [
      "c:\\users\\vansh\\appdata\\local\\programs\\python\\python39\\lib\\site-packages\\keras_preprocessing\\image\\utils.py:107: UserWarning: grayscale is deprecated. Please use color_mode = \"grayscale\"\n",
      "  warnings.warn('grayscale is deprecated. Please use '\n"
     ]
    }
   ],
   "source": [
    "train_features = extract_features(train['image']) "
   ]
  },
  {
   "cell_type": "code",
   "execution_count": 19,
   "id": "f777a183-48a0-49b5-aae4-6d11b73fa143",
   "metadata": {},
   "outputs": [
    {
     "data": {
      "application/vnd.jupyter.widget-view+json": {
       "model_id": "4b269ec12bd7425090d76a1cd8e9b131",
       "version_major": 2,
       "version_minor": 0
      },
      "text/plain": [
       "  0%|          | 0/7066 [00:00<?, ?it/s]"
      ]
     },
     "metadata": {},
     "output_type": "display_data"
    }
   ],
   "source": [
    "test_features = extract_features(test['image'])"
   ]
  },
  {
   "cell_type": "code",
   "execution_count": 22,
   "id": "9fdc9ab7-ba12-4e24-92ed-be7bdbf75e48",
   "metadata": {},
   "outputs": [],
   "source": [
    "x_train = train_features/255.0\n",
    "x_test = test_features/255.0"
   ]
  },
  {
   "cell_type": "code",
   "execution_count": 23,
   "id": "b56375c5-9f2e-4c64-9f55-19d8c66329a7",
   "metadata": {},
   "outputs": [],
   "source": [
    "from sklearn.preprocessing import LabelEncoder"
   ]
  },
  {
   "cell_type": "code",
   "execution_count": 24,
   "id": "707d62ce-e9eb-40d0-8194-d39d3604beef",
   "metadata": {},
   "outputs": [
    {
     "data": {
      "text/html": [
       "<style>#sk-container-id-1 {color: black;}#sk-container-id-1 pre{padding: 0;}#sk-container-id-1 div.sk-toggleable {background-color: white;}#sk-container-id-1 label.sk-toggleable__label {cursor: pointer;display: block;width: 100%;margin-bottom: 0;padding: 0.3em;box-sizing: border-box;text-align: center;}#sk-container-id-1 label.sk-toggleable__label-arrow:before {content: \"▸\";float: left;margin-right: 0.25em;color: #696969;}#sk-container-id-1 label.sk-toggleable__label-arrow:hover:before {color: black;}#sk-container-id-1 div.sk-estimator:hover label.sk-toggleable__label-arrow:before {color: black;}#sk-container-id-1 div.sk-toggleable__content {max-height: 0;max-width: 0;overflow: hidden;text-align: left;background-color: #f0f8ff;}#sk-container-id-1 div.sk-toggleable__content pre {margin: 0.2em;color: black;border-radius: 0.25em;background-color: #f0f8ff;}#sk-container-id-1 input.sk-toggleable__control:checked~div.sk-toggleable__content {max-height: 200px;max-width: 100%;overflow: auto;}#sk-container-id-1 input.sk-toggleable__control:checked~label.sk-toggleable__label-arrow:before {content: \"▾\";}#sk-container-id-1 div.sk-estimator input.sk-toggleable__control:checked~label.sk-toggleable__label {background-color: #d4ebff;}#sk-container-id-1 div.sk-label input.sk-toggleable__control:checked~label.sk-toggleable__label {background-color: #d4ebff;}#sk-container-id-1 input.sk-hidden--visually {border: 0;clip: rect(1px 1px 1px 1px);clip: rect(1px, 1px, 1px, 1px);height: 1px;margin: -1px;overflow: hidden;padding: 0;position: absolute;width: 1px;}#sk-container-id-1 div.sk-estimator {font-family: monospace;background-color: #f0f8ff;border: 1px dotted black;border-radius: 0.25em;box-sizing: border-box;margin-bottom: 0.5em;}#sk-container-id-1 div.sk-estimator:hover {background-color: #d4ebff;}#sk-container-id-1 div.sk-parallel-item::after {content: \"\";width: 100%;border-bottom: 1px solid gray;flex-grow: 1;}#sk-container-id-1 div.sk-label:hover label.sk-toggleable__label {background-color: #d4ebff;}#sk-container-id-1 div.sk-serial::before {content: \"\";position: absolute;border-left: 1px solid gray;box-sizing: border-box;top: 0;bottom: 0;left: 50%;z-index: 0;}#sk-container-id-1 div.sk-serial {display: flex;flex-direction: column;align-items: center;background-color: white;padding-right: 0.2em;padding-left: 0.2em;position: relative;}#sk-container-id-1 div.sk-item {position: relative;z-index: 1;}#sk-container-id-1 div.sk-parallel {display: flex;align-items: stretch;justify-content: center;background-color: white;position: relative;}#sk-container-id-1 div.sk-item::before, #sk-container-id-1 div.sk-parallel-item::before {content: \"\";position: absolute;border-left: 1px solid gray;box-sizing: border-box;top: 0;bottom: 0;left: 50%;z-index: -1;}#sk-container-id-1 div.sk-parallel-item {display: flex;flex-direction: column;z-index: 1;position: relative;background-color: white;}#sk-container-id-1 div.sk-parallel-item:first-child::after {align-self: flex-end;width: 50%;}#sk-container-id-1 div.sk-parallel-item:last-child::after {align-self: flex-start;width: 50%;}#sk-container-id-1 div.sk-parallel-item:only-child::after {width: 0;}#sk-container-id-1 div.sk-dashed-wrapped {border: 1px dashed gray;margin: 0 0.4em 0.5em 0.4em;box-sizing: border-box;padding-bottom: 0.4em;background-color: white;}#sk-container-id-1 div.sk-label label {font-family: monospace;font-weight: bold;display: inline-block;line-height: 1.2em;}#sk-container-id-1 div.sk-label-container {text-align: center;}#sk-container-id-1 div.sk-container {/* jupyter's `normalize.less` sets `[hidden] { display: none; }` but bootstrap.min.css set `[hidden] { display: none !important; }` so we also need the `!important` here to be able to override the default hidden behavior on the sphinx rendered scikit-learn.org. See: https://github.com/scikit-learn/scikit-learn/issues/21755 */display: inline-block !important;position: relative;}#sk-container-id-1 div.sk-text-repr-fallback {display: none;}</style><div id=\"sk-container-id-1\" class=\"sk-top-container\"><div class=\"sk-text-repr-fallback\"><pre>LabelEncoder()</pre><b>In a Jupyter environment, please rerun this cell to show the HTML representation or trust the notebook. <br />On GitHub, the HTML representation is unable to render, please try loading this page with nbviewer.org.</b></div><div class=\"sk-container\" hidden><div class=\"sk-item\"><div class=\"sk-estimator sk-toggleable\"><input class=\"sk-toggleable__control sk-hidden--visually\" id=\"sk-estimator-id-1\" type=\"checkbox\" checked><label for=\"sk-estimator-id-1\" class=\"sk-toggleable__label sk-toggleable__label-arrow\">LabelEncoder</label><div class=\"sk-toggleable__content\"><pre>LabelEncoder()</pre></div></div></div></div></div>"
      ],
      "text/plain": [
       "LabelEncoder()"
      ]
     },
     "execution_count": 24,
     "metadata": {},
     "output_type": "execute_result"
    }
   ],
   "source": [
    "le = LabelEncoder()\n",
    "le.fit(train['label'])"
   ]
  },
  {
   "cell_type": "code",
   "execution_count": 25,
   "id": "78e9d2b8-e65c-44d2-b246-a41112f0e5da",
   "metadata": {},
   "outputs": [],
   "source": [
    "y_train = le.transform(train['label'])\n",
    "y_test = le.transform(test['label'])"
   ]
  },
  {
   "cell_type": "code",
   "execution_count": 26,
   "id": "9766573f-b1fc-4c3d-98f9-5a2d14964f10",
   "metadata": {},
   "outputs": [],
   "source": [
    "y_train = to_categorical(y_train,num_classes = 7)\n",
    "y_test = to_categorical(y_test,num_classes = 7)"
   ]
  },
  {
   "cell_type": "code",
   "execution_count": 27,
   "id": "b7d67996-ac98-4bdb-8d0a-6ca48a4b7f8d",
   "metadata": {},
   "outputs": [],
   "source": [
    "model = Sequential()\n",
    "# convolutional layers\n",
    "model.add(Conv2D(128, kernel_size=(3,3), activation='relu', input_shape=(48,48,1)))\n",
    "model.add(MaxPooling2D(pool_size=(2,2)))\n",
    "model.add(Dropout(0.4))\n",
    "\n",
    "model.add(Conv2D(256, kernel_size=(3,3), activation='relu'))\n",
    "model.add(MaxPooling2D(pool_size=(2,2)))\n",
    "model.add(Dropout(0.4))\n",
    "\n",
    "model.add(Conv2D(512, kernel_size=(3,3), activation='relu'))\n",
    "model.add(MaxPooling2D(pool_size=(2,2)))\n",
    "model.add(Dropout(0.4))\n",
    "\n",
    "model.add(Conv2D(512, kernel_size=(3,3), activation='relu'))\n",
    "model.add(MaxPooling2D(pool_size=(2,2)))\n",
    "model.add(Dropout(0.4))\n",
    "\n",
    "model.add(Flatten())\n",
    "# fully connected layers\n",
    "model.add(Dense(512, activation='relu'))\n",
    "model.add(Dropout(0.4))\n",
    "model.add(Dense(256, activation='relu'))\n",
    "model.add(Dropout(0.3))\n",
    "# output layer\n",
    "model.add(Dense(7, activation='softmax'))"
   ]
  },
  {
   "cell_type": "code",
   "execution_count": 18,
   "id": "327021c5-9b15-47bd-88dd-fb93cac10c30",
   "metadata": {},
   "outputs": [],
   "source": [
    "model.compile(optimizer = 'adam', loss = 'categorical_crossentropy', metrics = 'accuracy' )"
   ]
  },
  {
   "cell_type": "code",
   "execution_count": 19,
   "id": "4091565b-e647-4029-8d55-1b31c459adaf",
   "metadata": {},
   "outputs": [
    {
     "name": "stdout",
     "output_type": "stream",
     "text": [
      "Epoch 1/100\n",
      "226/226 [==============================] - 566s 2s/step - loss: 1.8235 - accuracy: 0.2437 - val_loss: 1.8084 - val_accuracy: 0.2583\n",
      "Epoch 2/100\n",
      "226/226 [==============================] - 447s 2s/step - loss: 1.7726 - accuracy: 0.2661 - val_loss: 1.6726 - val_accuracy: 0.3309\n",
      "Epoch 3/100\n",
      "226/226 [==============================] - 445s 2s/step - loss: 1.6160 - accuracy: 0.3560 - val_loss: 1.4655 - val_accuracy: 0.4312\n",
      "Epoch 4/100\n",
      "226/226 [==============================] - 439s 2s/step - loss: 1.4805 - accuracy: 0.4263 - val_loss: 1.3653 - val_accuracy: 0.4641\n",
      "Epoch 5/100\n",
      "226/226 [==============================] - 420s 2s/step - loss: 1.4178 - accuracy: 0.4526 - val_loss: 1.3109 - val_accuracy: 0.4921\n",
      "Epoch 6/100\n",
      "226/226 [==============================] - 422s 2s/step - loss: 1.3777 - accuracy: 0.4685 - val_loss: 1.2601 - val_accuracy: 0.5209\n",
      "Epoch 7/100\n",
      "226/226 [==============================] - 405s 2s/step - loss: 1.3384 - accuracy: 0.4868 - val_loss: 1.2359 - val_accuracy: 0.5337\n",
      "Epoch 8/100\n",
      "226/226 [==============================] - 405s 2s/step - loss: 1.3145 - accuracy: 0.4976 - val_loss: 1.2058 - val_accuracy: 0.5429\n",
      "Epoch 9/100\n",
      "226/226 [==============================] - 409s 2s/step - loss: 1.2947 - accuracy: 0.5035 - val_loss: 1.1900 - val_accuracy: 0.5450\n",
      "Epoch 10/100\n",
      "226/226 [==============================] - 415s 2s/step - loss: 1.2673 - accuracy: 0.5171 - val_loss: 1.1836 - val_accuracy: 0.5552\n",
      "Epoch 11/100\n",
      "226/226 [==============================] - 409s 2s/step - loss: 1.2506 - accuracy: 0.5216 - val_loss: 1.1672 - val_accuracy: 0.5606\n",
      "Epoch 12/100\n",
      "226/226 [==============================] - 408s 2s/step - loss: 1.2350 - accuracy: 0.5275 - val_loss: 1.1555 - val_accuracy: 0.5675\n",
      "Epoch 13/100\n",
      "226/226 [==============================] - 408s 2s/step - loss: 1.2260 - accuracy: 0.5363 - val_loss: 1.1602 - val_accuracy: 0.5599\n",
      "Epoch 14/100\n",
      "226/226 [==============================] - 405s 2s/step - loss: 1.2092 - accuracy: 0.5388 - val_loss: 1.1372 - val_accuracy: 0.5729\n",
      "Epoch 15/100\n",
      "226/226 [==============================] - 412s 2s/step - loss: 1.1962 - accuracy: 0.5462 - val_loss: 1.1312 - val_accuracy: 0.5751\n",
      "Epoch 16/100\n",
      "226/226 [==============================] - 399s 2s/step - loss: 1.1785 - accuracy: 0.5540 - val_loss: 1.1177 - val_accuracy: 0.5780\n",
      "Epoch 17/100\n",
      "226/226 [==============================] - 384s 2s/step - loss: 1.1721 - accuracy: 0.5554 - val_loss: 1.1110 - val_accuracy: 0.5787\n",
      "Epoch 18/100\n",
      "226/226 [==============================] - 376s 2s/step - loss: 1.1616 - accuracy: 0.5597 - val_loss: 1.1050 - val_accuracy: 0.5842\n",
      "Epoch 19/100\n",
      "226/226 [==============================] - 374s 2s/step - loss: 1.1484 - accuracy: 0.5624 - val_loss: 1.1004 - val_accuracy: 0.5839\n",
      "Epoch 20/100\n",
      "226/226 [==============================] - 375s 2s/step - loss: 1.1330 - accuracy: 0.5685 - val_loss: 1.0922 - val_accuracy: 0.5909\n",
      "Epoch 21/100\n",
      "226/226 [==============================] - 377s 2s/step - loss: 1.1278 - accuracy: 0.5727 - val_loss: 1.0957 - val_accuracy: 0.5907\n",
      "Epoch 22/100\n",
      "226/226 [==============================] - 373s 2s/step - loss: 1.1173 - accuracy: 0.5758 - val_loss: 1.0887 - val_accuracy: 0.5903\n",
      "Epoch 23/100\n",
      "226/226 [==============================] - 374s 2s/step - loss: 1.1095 - accuracy: 0.5802 - val_loss: 1.0943 - val_accuracy: 0.5911\n",
      "Epoch 24/100\n",
      "226/226 [==============================] - 375s 2s/step - loss: 1.1111 - accuracy: 0.5780 - val_loss: 1.0947 - val_accuracy: 0.5831\n",
      "Epoch 25/100\n",
      "226/226 [==============================] - 374s 2s/step - loss: 1.0940 - accuracy: 0.5832 - val_loss: 1.0837 - val_accuracy: 0.5951\n",
      "Epoch 26/100\n",
      "226/226 [==============================] - 375s 2s/step - loss: 1.0866 - accuracy: 0.5890 - val_loss: 1.0785 - val_accuracy: 0.5911\n",
      "Epoch 27/100\n",
      "226/226 [==============================] - 375s 2s/step - loss: 1.0821 - accuracy: 0.5914 - val_loss: 1.0791 - val_accuracy: 0.5984\n",
      "Epoch 28/100\n",
      "226/226 [==============================] - 374s 2s/step - loss: 1.0665 - accuracy: 0.5977 - val_loss: 1.0790 - val_accuracy: 0.5952\n",
      "Epoch 29/100\n",
      "226/226 [==============================] - 375s 2s/step - loss: 1.0690 - accuracy: 0.5943 - val_loss: 1.0648 - val_accuracy: 0.6015\n",
      "Epoch 30/100\n",
      "226/226 [==============================] - 376s 2s/step - loss: 1.0594 - accuracy: 0.5989 - val_loss: 1.0817 - val_accuracy: 0.5950\n",
      "Epoch 31/100\n",
      "226/226 [==============================] - 376s 2s/step - loss: 1.0539 - accuracy: 0.6058 - val_loss: 1.0530 - val_accuracy: 0.6059\n",
      "Epoch 32/100\n",
      "226/226 [==============================] - 393s 2s/step - loss: 1.0455 - accuracy: 0.6068 - val_loss: 1.0682 - val_accuracy: 0.5969\n",
      "Epoch 33/100\n",
      "226/226 [==============================] - 408s 2s/step - loss: 1.0377 - accuracy: 0.6086 - val_loss: 1.0532 - val_accuracy: 0.6074\n",
      "Epoch 34/100\n",
      "226/226 [==============================] - 404s 2s/step - loss: 1.0264 - accuracy: 0.6133 - val_loss: 1.0617 - val_accuracy: 0.6016\n",
      "Epoch 35/100\n",
      "226/226 [==============================] - 401s 2s/step - loss: 1.0253 - accuracy: 0.6121 - val_loss: 1.0510 - val_accuracy: 0.6044\n",
      "Epoch 36/100\n",
      "226/226 [==============================] - 403s 2s/step - loss: 1.0018 - accuracy: 0.6233 - val_loss: 1.0547 - val_accuracy: 0.6052\n",
      "Epoch 37/100\n",
      "226/226 [==============================] - 405s 2s/step - loss: 1.0050 - accuracy: 0.6226 - val_loss: 1.0470 - val_accuracy: 0.6040\n",
      "Epoch 38/100\n",
      "226/226 [==============================] - 403s 2s/step - loss: 1.0026 - accuracy: 0.6213 - val_loss: 1.0584 - val_accuracy: 0.6018\n",
      "Epoch 39/100\n",
      "226/226 [==============================] - 404s 2s/step - loss: 0.9903 - accuracy: 0.6277 - val_loss: 1.0547 - val_accuracy: 0.6052\n",
      "Epoch 40/100\n",
      "226/226 [==============================] - 403s 2s/step - loss: 0.9933 - accuracy: 0.6250 - val_loss: 1.0451 - val_accuracy: 0.6104\n",
      "Epoch 41/100\n",
      "226/226 [==============================] - 405s 2s/step - loss: 0.9968 - accuracy: 0.6271 - val_loss: 1.0605 - val_accuracy: 0.6012\n",
      "Epoch 42/100\n",
      "226/226 [==============================] - 411s 2s/step - loss: 0.9701 - accuracy: 0.6353 - val_loss: 1.0530 - val_accuracy: 0.6063\n",
      "Epoch 43/100\n",
      "226/226 [==============================] - 407s 2s/step - loss: 0.9777 - accuracy: 0.6321 - val_loss: 1.0560 - val_accuracy: 0.6020\n",
      "Epoch 44/100\n",
      "226/226 [==============================] - 406s 2s/step - loss: 0.9749 - accuracy: 0.6365 - val_loss: 1.0499 - val_accuracy: 0.6070\n",
      "Epoch 45/100\n",
      "226/226 [==============================] - 439s 2s/step - loss: 0.9711 - accuracy: 0.6355 - val_loss: 1.0491 - val_accuracy: 0.6101\n",
      "Epoch 46/100\n",
      "226/226 [==============================] - 417s 2s/step - loss: 0.9599 - accuracy: 0.6375 - val_loss: 1.0351 - val_accuracy: 0.6146\n",
      "Epoch 47/100\n",
      "226/226 [==============================] - 421s 2s/step - loss: 0.9504 - accuracy: 0.6426 - val_loss: 1.0406 - val_accuracy: 0.6142\n",
      "Epoch 48/100\n",
      "226/226 [==============================] - 431s 2s/step - loss: 0.9462 - accuracy: 0.6456 - val_loss: 1.0452 - val_accuracy: 0.6139\n",
      "Epoch 49/100\n",
      "226/226 [==============================] - 421s 2s/step - loss: 0.9421 - accuracy: 0.6485 - val_loss: 1.0502 - val_accuracy: 0.6134\n",
      "Epoch 50/100\n",
      "226/226 [==============================] - 415s 2s/step - loss: 0.9455 - accuracy: 0.6458 - val_loss: 1.0473 - val_accuracy: 0.6142\n",
      "Epoch 51/100\n",
      "226/226 [==============================] - 414s 2s/step - loss: 0.9314 - accuracy: 0.6510 - val_loss: 1.0367 - val_accuracy: 0.6168\n",
      "Epoch 52/100\n",
      "226/226 [==============================] - 408s 2s/step - loss: 0.9325 - accuracy: 0.6514 - val_loss: 1.0397 - val_accuracy: 0.6183\n",
      "Epoch 53/100\n",
      "226/226 [==============================] - 394s 2s/step - loss: 0.9244 - accuracy: 0.6549 - val_loss: 1.0303 - val_accuracy: 0.6213\n",
      "Epoch 54/100\n",
      "226/226 [==============================] - 387s 2s/step - loss: 0.9092 - accuracy: 0.6577 - val_loss: 1.0331 - val_accuracy: 0.6241\n",
      "Epoch 55/100\n",
      "226/226 [==============================] - 374s 2s/step - loss: 0.9147 - accuracy: 0.6601 - val_loss: 1.0411 - val_accuracy: 0.6127\n",
      "Epoch 56/100\n",
      "226/226 [==============================] - 373s 2s/step - loss: 0.9067 - accuracy: 0.6585 - val_loss: 1.0231 - val_accuracy: 0.6226\n",
      "Epoch 57/100\n",
      "226/226 [==============================] - 386s 2s/step - loss: 0.9067 - accuracy: 0.6646 - val_loss: 1.0433 - val_accuracy: 0.6193\n",
      "Epoch 58/100\n",
      "226/226 [==============================] - 377s 2s/step - loss: 0.8945 - accuracy: 0.6694 - val_loss: 1.0363 - val_accuracy: 0.6192\n",
      "Epoch 59/100\n",
      "226/226 [==============================] - 382s 2s/step - loss: 0.8926 - accuracy: 0.6669 - val_loss: 1.0421 - val_accuracy: 0.6193\n",
      "Epoch 60/100\n",
      "226/226 [==============================] - 378s 2s/step - loss: 0.8929 - accuracy: 0.6714 - val_loss: 1.0433 - val_accuracy: 0.6231\n",
      "Epoch 61/100\n",
      "226/226 [==============================] - 380s 2s/step - loss: 0.8758 - accuracy: 0.6743 - val_loss: 1.0433 - val_accuracy: 0.6206\n",
      "Epoch 62/100\n",
      "226/226 [==============================] - 382s 2s/step - loss: 0.8852 - accuracy: 0.6714 - val_loss: 1.0393 - val_accuracy: 0.6245\n",
      "Epoch 63/100\n",
      "226/226 [==============================] - 383s 2s/step - loss: 0.8681 - accuracy: 0.6771 - val_loss: 1.0439 - val_accuracy: 0.6203\n",
      "Epoch 64/100\n",
      "226/226 [==============================] - 381s 2s/step - loss: 0.8591 - accuracy: 0.6830 - val_loss: 1.0362 - val_accuracy: 0.6257\n",
      "Epoch 65/100\n",
      "226/226 [==============================] - 375s 2s/step - loss: 0.8599 - accuracy: 0.6803 - val_loss: 1.0350 - val_accuracy: 0.6247\n",
      "Epoch 66/100\n",
      "226/226 [==============================] - 377s 2s/step - loss: 0.8575 - accuracy: 0.6839 - val_loss: 1.0378 - val_accuracy: 0.6227\n",
      "Epoch 67/100\n",
      "226/226 [==============================] - 376s 2s/step - loss: 0.8583 - accuracy: 0.6806 - val_loss: 1.0421 - val_accuracy: 0.6207\n",
      "Epoch 68/100\n",
      "226/226 [==============================] - 374s 2s/step - loss: 0.8454 - accuracy: 0.6872 - val_loss: 1.0410 - val_accuracy: 0.6190\n",
      "Epoch 69/100\n",
      "226/226 [==============================] - 378s 2s/step - loss: 0.8502 - accuracy: 0.6869 - val_loss: 1.0336 - val_accuracy: 0.6213\n",
      "Epoch 70/100\n",
      "226/226 [==============================] - 377s 2s/step - loss: 0.8336 - accuracy: 0.6934 - val_loss: 1.0558 - val_accuracy: 0.6156\n",
      "Epoch 71/100\n",
      "226/226 [==============================] - 380s 2s/step - loss: 0.8351 - accuracy: 0.6934 - val_loss: 1.0498 - val_accuracy: 0.6216\n",
      "Epoch 72/100\n",
      "226/226 [==============================] - 387s 2s/step - loss: 0.8337 - accuracy: 0.6937 - val_loss: 1.0342 - val_accuracy: 0.6271\n",
      "Epoch 73/100\n",
      "226/226 [==============================] - 381s 2s/step - loss: 0.8276 - accuracy: 0.6920 - val_loss: 1.0304 - val_accuracy: 0.6277\n",
      "Epoch 74/100\n",
      "226/226 [==============================] - 382s 2s/step - loss: 0.8229 - accuracy: 0.7000 - val_loss: 1.0393 - val_accuracy: 0.6255\n",
      "Epoch 75/100\n",
      "226/226 [==============================] - 376s 2s/step - loss: 0.8119 - accuracy: 0.7004 - val_loss: 1.0355 - val_accuracy: 0.6281\n",
      "Epoch 76/100\n",
      "226/226 [==============================] - 384s 2s/step - loss: 0.8161 - accuracy: 0.6970 - val_loss: 1.0412 - val_accuracy: 0.6277\n",
      "Epoch 77/100\n",
      "226/226 [==============================] - 383s 2s/step - loss: 0.8096 - accuracy: 0.7012 - val_loss: 1.0383 - val_accuracy: 0.6272\n",
      "Epoch 78/100\n",
      "226/226 [==============================] - 387s 2s/step - loss: 0.8041 - accuracy: 0.7039 - val_loss: 1.0580 - val_accuracy: 0.6182\n",
      "Epoch 79/100\n",
      "226/226 [==============================] - 379s 2s/step - loss: 0.8042 - accuracy: 0.7055 - val_loss: 1.0278 - val_accuracy: 0.6248\n",
      "Epoch 80/100\n",
      "226/226 [==============================] - 377s 2s/step - loss: 0.7944 - accuracy: 0.7074 - val_loss: 1.0397 - val_accuracy: 0.6278\n",
      "Epoch 81/100\n",
      "226/226 [==============================] - 382s 2s/step - loss: 0.7917 - accuracy: 0.7071 - val_loss: 1.0316 - val_accuracy: 0.6299\n",
      "Epoch 82/100\n",
      "226/226 [==============================] - 379s 2s/step - loss: 0.7980 - accuracy: 0.7061 - val_loss: 1.0392 - val_accuracy: 0.6313\n",
      "Epoch 83/100\n",
      "226/226 [==============================] - 380s 2s/step - loss: 0.7863 - accuracy: 0.7104 - val_loss: 1.0392 - val_accuracy: 0.6294\n",
      "Epoch 84/100\n",
      "226/226 [==============================] - 380s 2s/step - loss: 0.7755 - accuracy: 0.7135 - val_loss: 1.0557 - val_accuracy: 0.6252\n",
      "Epoch 85/100\n",
      "226/226 [==============================] - 381s 2s/step - loss: 0.7757 - accuracy: 0.7161 - val_loss: 1.0472 - val_accuracy: 0.6197\n",
      "Epoch 86/100\n",
      "226/226 [==============================] - 382s 2s/step - loss: 0.7737 - accuracy: 0.7140 - val_loss: 1.0586 - val_accuracy: 0.6211\n",
      "Epoch 87/100\n",
      "226/226 [==============================] - 382s 2s/step - loss: 0.7677 - accuracy: 0.7179 - val_loss: 1.0427 - val_accuracy: 0.6301\n",
      "Epoch 88/100\n",
      "226/226 [==============================] - 389s 2s/step - loss: 0.7661 - accuracy: 0.7205 - val_loss: 1.0302 - val_accuracy: 0.6308\n",
      "Epoch 89/100\n",
      "226/226 [==============================] - 386s 2s/step - loss: 0.7590 - accuracy: 0.7193 - val_loss: 1.0325 - val_accuracy: 0.6346\n",
      "Epoch 90/100\n",
      "226/226 [==============================] - 375s 2s/step - loss: 0.7549 - accuracy: 0.7231 - val_loss: 1.0411 - val_accuracy: 0.6282\n",
      "Epoch 91/100\n",
      "226/226 [==============================] - 376s 2s/step - loss: 0.7580 - accuracy: 0.7269 - val_loss: 1.0306 - val_accuracy: 0.6319\n",
      "Epoch 92/100\n",
      "226/226 [==============================] - 381s 2s/step - loss: 0.7544 - accuracy: 0.7272 - val_loss: 1.0332 - val_accuracy: 0.6313\n",
      "Epoch 93/100\n",
      "226/226 [==============================] - 376s 2s/step - loss: 0.7519 - accuracy: 0.7266 - val_loss: 1.0365 - val_accuracy: 0.6308\n",
      "Epoch 94/100\n",
      "226/226 [==============================] - 377s 2s/step - loss: 0.7507 - accuracy: 0.7238 - val_loss: 1.0385 - val_accuracy: 0.6295\n",
      "Epoch 95/100\n",
      "226/226 [==============================] - 379s 2s/step - loss: 0.7430 - accuracy: 0.7286 - val_loss: 1.0325 - val_accuracy: 0.6336\n",
      "Epoch 96/100\n",
      "226/226 [==============================] - 378s 2s/step - loss: 0.7383 - accuracy: 0.7302 - val_loss: 1.0443 - val_accuracy: 0.6275\n",
      "Epoch 97/100\n",
      "226/226 [==============================] - 403s 2s/step - loss: 0.7364 - accuracy: 0.7315 - val_loss: 1.0521 - val_accuracy: 0.6228\n",
      "Epoch 98/100\n",
      "226/226 [==============================] - 398s 2s/step - loss: 0.7290 - accuracy: 0.7366 - val_loss: 1.0412 - val_accuracy: 0.6313\n",
      "Epoch 99/100\n",
      "226/226 [==============================] - 378s 2s/step - loss: 0.7352 - accuracy: 0.7331 - val_loss: 1.0460 - val_accuracy: 0.6306\n",
      "Epoch 100/100\n",
      "226/226 [==============================] - 378s 2s/step - loss: 0.7306 - accuracy: 0.7357 - val_loss: 1.0448 - val_accuracy: 0.6292\n"
     ]
    },
    {
     "data": {
      "text/plain": [
       "<keras.src.callbacks.History at 0x1c64385fa90>"
      ]
     },
     "execution_count": 19,
     "metadata": {},
     "output_type": "execute_result"
    }
   ],
   "source": [
    "model.fit(x= x_train,y = y_train, batch_size = 128, epochs = 100, validation_data = (x_test,y_test)) "
   ]
  },
  {
   "cell_type": "code",
   "execution_count": 1,
   "id": "51f3c642-c838-4ca2-b98a-19e1bb1815de",
   "metadata": {},
   "outputs": [
    {
     "ename": "NameError",
     "evalue": "name 'model' is not defined",
     "output_type": "error",
     "traceback": [
      "\u001b[1;31m---------------------------------------------------------------------------\u001b[0m",
      "\u001b[1;31mNameError\u001b[0m                                 Traceback (most recent call last)",
      "Cell \u001b[1;32mIn[1], line 1\u001b[0m\n\u001b[1;32m----> 1\u001b[0m model_json \u001b[38;5;241m=\u001b[39m \u001b[43mmodel\u001b[49m\u001b[38;5;241m.\u001b[39mto_json()\n\u001b[0;32m      2\u001b[0m \u001b[38;5;28;01mwith\u001b[39;00m \u001b[38;5;28mopen\u001b[39m(\u001b[38;5;124m\"\u001b[39m\u001b[38;5;124memotiondetector.json\u001b[39m\u001b[38;5;124m\"\u001b[39m,\u001b[38;5;124m'\u001b[39m\u001b[38;5;124mw\u001b[39m\u001b[38;5;124m'\u001b[39m) \u001b[38;5;28;01mas\u001b[39;00m json_file:\n\u001b[0;32m      3\u001b[0m     json_file\u001b[38;5;241m.\u001b[39mwrite(model_json)\n",
      "\u001b[1;31mNameError\u001b[0m: name 'model' is not defined"
     ]
    }
   ],
   "source": [
    "model_json = model.to_json()\n",
    "with open(\"emotiondetector.json\",'w') as json_file:\n",
    "    json_file.write(model_json)\n",
    "model.save(\"emotiondetector.h5\")"
   ]
  },
  {
   "cell_type": "code",
   "execution_count": 3,
   "id": "889ea4af-33bb-4e58-8a34-aacda67c3011",
   "metadata": {},
   "outputs": [],
   "source": [
    "from keras.models import model_from_json"
   ]
  },
  {
   "cell_type": "code",
   "execution_count": 4,
   "id": "6f65ff62-361d-46d9-960e-79bfb3fc46ff",
   "metadata": {},
   "outputs": [],
   "source": [
    "json_file = open(\"emotiondetector.json\", \"r\")\n",
    "model_json = json_file.read()\n",
    "json_file.close()\n",
    "model = model_from_json(model_json)\n",
    "model.load_weights(\"emotiondetector.h5\")"
   ]
  },
  {
   "cell_type": "code",
   "execution_count": 5,
   "id": "7bfe8f60-543f-4d3f-b713-3df9a5d9ceee",
   "metadata": {},
   "outputs": [],
   "source": [
    "label = ['angry','disgust','fear','happy','neutral','sad','surprise']"
   ]
  },
  {
   "cell_type": "code",
   "execution_count": 6,
   "id": "c9c6acdd-33f2-4479-8238-6e35e22c232c",
   "metadata": {},
   "outputs": [],
   "source": [
    "def ef(image):\n",
    "    img = load_img(image,grayscale =  True )\n",
    "    feature = np.array(img)\n",
    "    feature = feature.reshape(1,48,48,1)\n",
    "    return feature/255.0"
   ]
  },
  {
   "cell_type": "code",
   "execution_count": 37,
   "id": "404f0193-1235-4852-b869-e5f3ef2f6298",
   "metadata": {},
   "outputs": [
    {
     "name": "stdout",
     "output_type": "stream",
     "text": [
      "original image is of happy\n",
      "1/1 [==============================] - 0s 32ms/step\n",
      "model prediction is  happy\n"
     ]
    }
   ],
   "source": [
    "image = 'images/test2.jpeg'\n",
    "print(\"original image is of happy\")\n",
    "img = ef(image)\n",
    "pred = model.predict(img)\n",
    "pred_label = label[pred.argmax()]\n",
    "print(\"model prediction is \",pred_label)"
   ]
  },
  {
   "cell_type": "code",
   "execution_count": 39,
   "id": "1380dfd1-0a61-400e-aa0f-d14b37dc6636",
   "metadata": {},
   "outputs": [
    {
     "name": "stdout",
     "output_type": "stream",
     "text": [
      "original image is of Neutral\n",
      "1/1 [==============================] - 0s 32ms/step\n",
      "model prediction is  neutral\n"
     ]
    }
   ],
   "source": [
    "image = 'images/test3.jpg'\n",
    "print(\"original image is of Neutral\")\n",
    "img = ef(image)\n",
    "pred = model.predict(img)\n",
    "pred_label = label[pred.argmax()]\n",
    "print(\"model prediction is \",pred_label)"
   ]
  },
  {
   "cell_type": "code",
   "execution_count": 40,
   "id": "374c1682-c552-4bc0-acb3-43fbc3559d49",
   "metadata": {},
   "outputs": [],
   "source": [
    "import matplotlib.pyplot as plt\n",
    "%matplotlib inline"
   ]
  },
  {
   "cell_type": "code",
   "execution_count": 46,
   "id": "4f7c7bb2-42e8-4c40-8eed-1b1ff0248671",
   "metadata": {},
   "outputs": [
    {
     "name": "stdout",
     "output_type": "stream",
     "text": [
      "original image is of happy\n",
      "1/1 [==============================] - 0s 33ms/step\n",
      "model prediction is  happy\n"
     ]
    },
    {
     "data": {
      "text/plain": [
       "<matplotlib.image.AxesImage at 0x1c683efbdf0>"
      ]
     },
     "execution_count": 46,
     "metadata": {},
     "output_type": "execute_result"
    },
    {
     "data": {
      "image/png": "[encoded data removed]",
      "text/plain": [
       "<Figure size 640x480 with 1 Axes>"
      ]
     },
     "metadata": {},
     "output_type": "display_data"
    }
   ],
   "source": [
    "image = 'images/test2.jpeg'\n",
    "print(\"original image is of happy\")\n",
    "img = ef(image)\n",
    "pred = model.predict(img)\n",
    "pred_label = label[pred.argmax()]\n",
    "print(\"model prediction is \",pred_label)\n",
    "plt.imshow(img.reshape(48,48))"
   ]
  },
  {
   "cell_type": "code",
   "execution_count": 45,
   "id": "640561d7-a9f6-4ef7-8303-e1e471ab367d",
   "metadata": {},
   "outputs": [
    {
     "name": "stdout",
     "output_type": "stream",
     "text": [
      "original image is of neutral\n",
      "1/1 [==============================] - 0s 40ms/step\n",
      "model prediction is  neutral\n"
     ]
    },
    {
     "data": {
      "text/plain": [
       "<matplotlib.image.AxesImage at 0x1c683e8b8b0>"
      ]
     },
     "execution_count": 45,
     "metadata": {},
     "output_type": "execute_result"
    },
    {
     "data": {
      "image/png": "[encoded data removed]",
      "text/plain": [
       "<Figure size 640x480 with 1 Axes>"
      ]
     },
     "metadata": {},
     "output_type": "display_data"
    }
   ],
   "source": [
    "image = 'images/test3.jpg'\n",
    "print(\"original image is of neutral\")\n",
    "img = ef(image)\n",
    "pred = model.predict(img)\n",
    "pred_label = label[pred.argmax()]\n",
    "print(\"model prediction is \",pred_label)\n",
    "plt.imshow(img.reshape(48,48))"
   ]
  },
  {
   "cell_type": "code",
   "execution_count": 54,
   "id": "48cb50c8-c0e0-47ef-a3d7-1ff0d1de7951",
   "metadata": {},
   "outputs": [
    {
     "name": "stdout",
     "output_type": "stream",
     "text": [
      "original image is of neutral\n",
      "1/1 [==============================] - 0s 64ms/step\n",
      "model prediction is  neutral\n"
     ]
    },
    {
     "data": {
      "text/plain": [
       "<matplotlib.image.AxesImage at 0x1c688cacfd0>"
      ]
     },
     "execution_count": 54,
     "metadata": {},
     "output_type": "execute_result"
    },
    {
     "data": {
      "image/png": "[encoded data removed]",
      "text/plain": [
       "<Figure size 640x480 with 1 Axes>"
      ]
     },
     "metadata": {},
     "output_type": "display_data"
    }
   ],
   "source": [
    "image = 'images/test4.jpg'\n",
    "print(\"original image is of neutral\")\n",
    "img = ef(image)\n",
    "pred = model.predict(img)\n",
    "pred_label = label[pred.argmax()]\n",
    "print(\"model prediction is \",pred_label)\n",
    "plt.imshow(img.reshape(48,48), cmap='CMRmap')"
   ]
  },
  {
   "cell_type": "code",
   "execution_count": 56,
   "id": "34c042c0-b3e4-4a41-bd3c-7f7989b70fe8",
   "metadata": {},
   "outputs": [
    {
     "name": "stdout",
     "output_type": "stream",
     "text": [
      "original image is of neutral\n",
      "1/1 [==============================] - 0s 42ms/step\n",
      "model prediction is  neutral\n"
     ]
    },
    {
     "data": {
      "text/plain": [
       "<matplotlib.image.AxesImage at 0x1c688f10fd0>"
      ]
     },
     "execution_count": 56,
     "metadata": {},
     "output_type": "execute_result"
    },
    {
     "data": {
      "image/png": "[encoded data removed]",
      "text/plain": [
       "<Figure size 640x480 with 1 Axes>"
      ]
     },
     "metadata": {},
     "output_type": "display_data"
    }
   ],
   "source": [
    "image = 'images/test5.jpg'\n",
    "print(\"original image is of neutral\")\n",
    "img = ef(image)\n",
    "pred = model.predict(img)\n",
    "pred_label = label[pred.argmax()]\n",
    "print(\"model prediction is \",pred_label)\n",
    "plt.imshow(img.reshape(48,48))"
   ]
  },
  {
   "cell_type": "code",
   "execution_count": 11,
   "id": "61619df6-28b3-4b2a-8200-4a8d0c220d15",
   "metadata": {},
   "outputs": [
    {
     "data": {
      "image/png": "[encoded data removed]",
      "text/plain": [
       "<PIL.Image.Image image mode=RGBA size=893x380>"
      ]
     },
     "execution_count": 11,
     "metadata": {},
     "output_type": "execute_result"
    }
   ],
   "source": [
    "import visualkeras\n",
    "from PIL import ImageFont\n",
    "\n",
    "visualkeras.layered_view(model).show() # display using your system viewer\n",
    "visualkeras.layered_view(model, to_file='output.png') # write to disk\n",
    "visualkeras.layered_view(model, to_file='output.png').show() # write and show\n",
    "\n",
    "font = ImageFont.truetype(\"arial.ttf\", 32)  # using comic sans is strictly prohibited!\n",
    "visualkeras.layered_view(model, legend=True, font=font)  # font is optional!"
   ]
  },
  {
   "cell_type": "code",
   "execution_count": 9,
   "id": "f33ea528-2fac-4fc2-a02b-e7544de11906",
   "metadata": {},
   "outputs": [
    {
     "data": {
      "image/png": "[encoded data removed]",
      "text/plain": [
       "<PIL.Image.Image image mode=RGBA size=893x246>"
      ]
     },
     "execution_count": 9,
     "metadata": {},
     "output_type": "execute_result"
    }
   ],
   "source": [
    "from collections import defaultdict\n",
    "\n",
    "color_map = defaultdict(dict)\n",
    "color_map[Conv2D]['fill'] = 'orange'\n",
    "# color_map[ZeroPadding2D]['fill'] = 'gray'\n",
    "color_map[Dropout]['fill'] = 'pink'\n",
    "color_map[MaxPooling2D]['fill'] = 'red'\n",
    "color_map[Dense]['fill'] = 'green'\n",
    "color_map[Flatten]['fill'] = 'teal'\n",
    "\n",
    "visualkeras.layered_view(model, color_map=color_map)"
   ]
  },
  {
   "cell_type": "code",
   "execution_count": 7,
   "id": "63d1b47d-4f33-44b7-9dcb-2c5e72248b7b",
   "metadata": {},
   "outputs": [],
   "source": [
    "from sklearn.metrics import accuracy_score, confusion_matrix"
   ]
  },
  {
   "cell_type": "code",
   "execution_count": 8,
   "id": "f803afdb-c997-4067-b6a3-ffc99873192b",
   "metadata": {},
   "outputs": [
    {
     "ename": "NameError",
     "evalue": "name 'y_test' is not defined",
     "output_type": "error",
     "traceback": [
      "\u001b[1;31m---------------------------------------------------------------------------\u001b[0m",
      "\u001b[1;31mNameError\u001b[0m                                 Traceback (most recent call last)",
      "Cell \u001b[1;32mIn[8], line 1\u001b[0m\n\u001b[1;32m----> 1\u001b[0m confusion_matrix(\u001b[43my_test\u001b[49m,y_pred)\n",
      "\u001b[1;31mNameError\u001b[0m: name 'y_test' is not defined"
     ]
    }
   ],
   "source": [
    "confusion_matrix(y_test,y_pred)"
   ]
  },
  {
   "cell_type": "code",
   "execution_count": 20,
   "id": "ad6f35ca-4a5e-4c5d-926f-b9bcca8ef54b",
   "metadata": {},
   "outputs": [
    {
     "ename": "SyntaxError",
     "evalue": "iterable argument unpacking follows keyword argument unpacking (2936745866.py, line 1)",
     "output_type": "error",
     "traceback": [
      "\u001b[1;36m  Cell \u001b[1;32mIn[20], line 1\u001b[1;36m\u001b[0m\n\u001b[1;33m    sklearn.metrics.multilabel_confusion_matrix(y_true, y_pred, *, sample_weight=None, labels=None, samplewise=False)\u001b[0m\n\u001b[1;37m                                                                 ^\u001b[0m\n\u001b[1;31mSyntaxError\u001b[0m\u001b[1;31m:\u001b[0m iterable argument unpacking follows keyword argument unpacking\n"
     ]
    }
   ],
   "source": [
    "sklearn.metrics.multilabel_confusion_matrix(y_true, y_pred, *, sample_weight=None, labels=None, samplewise=False)"
   ]
  },
  {
   "cell_type": "code",
   "execution_count": 21,
   "id": "6b6cf3c6-3354-483a-8dc9-5cc2dfae8698",
   "metadata": {},
   "outputs": [],
   "source": [
    "from sklearn.metrics import multilabel_confusion_matrix"
   ]
  },
  {
   "cell_type": "code",
   "execution_count": 28,
   "id": "299e0e31-6f43-434d-871d-487bd748b06c",
   "metadata": {},
   "outputs": [
    {
     "ename": "ValueError",
     "evalue": "Found input variables with inconsistent numbers of samples: [28821, 7066]",
     "output_type": "error",
     "traceback": [
      "\u001b[1;31m---------------------------------------------------------------------------\u001b[0m",
      "\u001b[1;31mValueError\u001b[0m                                Traceback (most recent call last)",
      "Cell \u001b[1;32mIn[28], line 1\u001b[0m\n\u001b[1;32m----> 1\u001b[0m \u001b[43mconfusion_matrix\u001b[49m\u001b[43m(\u001b[49m\u001b[43my_train\u001b[49m\u001b[43m,\u001b[49m\u001b[43m \u001b[49m\u001b[43my_test\u001b[49m\u001b[43m,\u001b[49m\u001b[43m \u001b[49m\u001b[43mlabels\u001b[49m\u001b[38;5;241;43m=\u001b[39;49m\u001b[43m[\u001b[49m\u001b[38;5;124;43m\"\u001b[39;49m\u001b[38;5;124;43m1\u001b[39;49m\u001b[38;5;124;43m\"\u001b[39;49m\u001b[43m,\u001b[49m\u001b[43m \u001b[49m\u001b[38;5;124;43m\"\u001b[39;49m\u001b[38;5;124;43m2\u001b[39;49m\u001b[38;5;124;43m\"\u001b[39;49m\u001b[43m,\u001b[49m\u001b[43m \u001b[49m\u001b[38;5;124;43m\"\u001b[39;49m\u001b[38;5;124;43m3\u001b[39;49m\u001b[38;5;124;43m\"\u001b[39;49m\u001b[43m,\u001b[49m\u001b[43m \u001b[49m\u001b[38;5;124;43m\"\u001b[39;49m\u001b[38;5;124;43m4\u001b[39;49m\u001b[38;5;124;43m\"\u001b[39;49m\u001b[43m,\u001b[49m\u001b[43m \u001b[49m\u001b[38;5;124;43m\"\u001b[39;49m\u001b[38;5;124;43m5\u001b[39;49m\u001b[38;5;124;43m\"\u001b[39;49m\u001b[43m,\u001b[49m\u001b[43m \u001b[49m\u001b[38;5;124;43m\"\u001b[39;49m\u001b[38;5;124;43m6\u001b[39;49m\u001b[38;5;124;43m\"\u001b[39;49m\u001b[43m]\u001b[49m\u001b[43m)\u001b[49m\n",
      "File \u001b[1;32mc:\\users\\vansh\\appdata\\local\\programs\\python\\python39\\lib\\site-packages\\sklearn\\utils\\_param_validation.py:214\u001b[0m, in \u001b[0;36mvalidate_params.<locals>.decorator.<locals>.wrapper\u001b[1;34m(*args, **kwargs)\u001b[0m\n\u001b[0;32m    208\u001b[0m \u001b[38;5;28;01mtry\u001b[39;00m:\n\u001b[0;32m    209\u001b[0m     \u001b[38;5;28;01mwith\u001b[39;00m config_context(\n\u001b[0;32m    210\u001b[0m         skip_parameter_validation\u001b[38;5;241m=\u001b[39m(\n\u001b[0;32m    211\u001b[0m             prefer_skip_nested_validation \u001b[38;5;129;01mor\u001b[39;00m global_skip_validation\n\u001b[0;32m    212\u001b[0m         )\n\u001b[0;32m    213\u001b[0m     ):\n\u001b[1;32m--> 214\u001b[0m         \u001b[38;5;28;01mreturn\u001b[39;00m func(\u001b[38;5;241m*\u001b[39margs, \u001b[38;5;241m*\u001b[39m\u001b[38;5;241m*\u001b[39mkwargs)\n\u001b[0;32m    215\u001b[0m \u001b[38;5;28;01mexcept\u001b[39;00m InvalidParameterError \u001b[38;5;28;01mas\u001b[39;00m e:\n\u001b[0;32m    216\u001b[0m     \u001b[38;5;66;03m# When the function is just a wrapper around an estimator, we allow\u001b[39;00m\n\u001b[0;32m    217\u001b[0m     \u001b[38;5;66;03m# the function to delegate validation to the estimator, but we replace\u001b[39;00m\n\u001b[0;32m    218\u001b[0m     \u001b[38;5;66;03m# the name of the estimator by the name of the function in the error\u001b[39;00m\n\u001b[0;32m    219\u001b[0m     \u001b[38;5;66;03m# message to avoid confusion.\u001b[39;00m\n\u001b[0;32m    220\u001b[0m     msg \u001b[38;5;241m=\u001b[39m re\u001b[38;5;241m.\u001b[39msub(\n\u001b[0;32m    221\u001b[0m         \u001b[38;5;124mr\u001b[39m\u001b[38;5;124m\"\u001b[39m\u001b[38;5;124mparameter of \u001b[39m\u001b[38;5;124m\\\u001b[39m\u001b[38;5;124mw+ must be\u001b[39m\u001b[38;5;124m\"\u001b[39m,\n\u001b[0;32m    222\u001b[0m         \u001b[38;5;124mf\u001b[39m\u001b[38;5;124m\"\u001b[39m\u001b[38;5;124mparameter of \u001b[39m\u001b[38;5;132;01m{\u001b[39;00mfunc\u001b[38;5;241m.\u001b[39m\u001b[38;5;18m__qualname__\u001b[39m\u001b[38;5;132;01m}\u001b[39;00m\u001b[38;5;124m must be\u001b[39m\u001b[38;5;124m\"\u001b[39m,\n\u001b[0;32m    223\u001b[0m         \u001b[38;5;28mstr\u001b[39m(e),\n\u001b[0;32m    224\u001b[0m     )\n",
      "File \u001b[1;32mc:\\users\\vansh\\appdata\\local\\programs\\python\\python39\\lib\\site-packages\\sklearn\\metrics\\_classification.py:326\u001b[0m, in \u001b[0;36mconfusion_matrix\u001b[1;34m(y_true, y_pred, labels, sample_weight, normalize)\u001b[0m\n\u001b[0;32m    231\u001b[0m \u001b[38;5;129m@validate_params\u001b[39m(\n\u001b[0;32m    232\u001b[0m     {\n\u001b[0;32m    233\u001b[0m         \u001b[38;5;124m\"\u001b[39m\u001b[38;5;124my_true\u001b[39m\u001b[38;5;124m\"\u001b[39m: [\u001b[38;5;124m\"\u001b[39m\u001b[38;5;124marray-like\u001b[39m\u001b[38;5;124m\"\u001b[39m],\n\u001b[1;32m   (...)\u001b[0m\n\u001b[0;32m    242\u001b[0m     y_true, y_pred, \u001b[38;5;241m*\u001b[39m, labels\u001b[38;5;241m=\u001b[39m\u001b[38;5;28;01mNone\u001b[39;00m, sample_weight\u001b[38;5;241m=\u001b[39m\u001b[38;5;28;01mNone\u001b[39;00m, normalize\u001b[38;5;241m=\u001b[39m\u001b[38;5;28;01mNone\u001b[39;00m\n\u001b[0;32m    243\u001b[0m ):\n\u001b[0;32m    244\u001b[0m \u001b[38;5;250m    \u001b[39m\u001b[38;5;124;03m\"\"\"Compute confusion matrix to evaluate the accuracy of a classification.\u001b[39;00m\n\u001b[0;32m    245\u001b[0m \n\u001b[0;32m    246\u001b[0m \u001b[38;5;124;03m    By definition a confusion matrix :math:`C` is such that :math:`C_{i, j}`\u001b[39;00m\n\u001b[1;32m   (...)\u001b[0m\n\u001b[0;32m    324\u001b[0m \u001b[38;5;124;03m    (0, 2, 1, 1)\u001b[39;00m\n\u001b[0;32m    325\u001b[0m \u001b[38;5;124;03m    \"\"\"\u001b[39;00m\n\u001b[1;32m--> 326\u001b[0m     y_type, y_true, y_pred \u001b[38;5;241m=\u001b[39m \u001b[43m_check_targets\u001b[49m\u001b[43m(\u001b[49m\u001b[43my_true\u001b[49m\u001b[43m,\u001b[49m\u001b[43m \u001b[49m\u001b[43my_pred\u001b[49m\u001b[43m)\u001b[49m\n\u001b[0;32m    327\u001b[0m     \u001b[38;5;28;01mif\u001b[39;00m y_type \u001b[38;5;129;01mnot\u001b[39;00m \u001b[38;5;129;01min\u001b[39;00m (\u001b[38;5;124m\"\u001b[39m\u001b[38;5;124mbinary\u001b[39m\u001b[38;5;124m\"\u001b[39m, \u001b[38;5;124m\"\u001b[39m\u001b[38;5;124mmulticlass\u001b[39m\u001b[38;5;124m\"\u001b[39m):\n\u001b[0;32m    328\u001b[0m         \u001b[38;5;28;01mraise\u001b[39;00m \u001b[38;5;167;01mValueError\u001b[39;00m(\u001b[38;5;124m\"\u001b[39m\u001b[38;5;132;01m%s\u001b[39;00m\u001b[38;5;124m is not supported\u001b[39m\u001b[38;5;124m\"\u001b[39m \u001b[38;5;241m%\u001b[39m y_type)\n",
      "File \u001b[1;32mc:\\users\\vansh\\appdata\\local\\programs\\python\\python39\\lib\\site-packages\\sklearn\\metrics\\_classification.py:84\u001b[0m, in \u001b[0;36m_check_targets\u001b[1;34m(y_true, y_pred)\u001b[0m\n\u001b[0;32m     57\u001b[0m \u001b[38;5;28;01mdef\u001b[39;00m \u001b[38;5;21m_check_targets\u001b[39m(y_true, y_pred):\n\u001b[0;32m     58\u001b[0m \u001b[38;5;250m    \u001b[39m\u001b[38;5;124;03m\"\"\"Check that y_true and y_pred belong to the same classification task.\u001b[39;00m\n\u001b[0;32m     59\u001b[0m \n\u001b[0;32m     60\u001b[0m \u001b[38;5;124;03m    This converts multiclass or binary types to a common shape, and raises a\u001b[39;00m\n\u001b[1;32m   (...)\u001b[0m\n\u001b[0;32m     82\u001b[0m \u001b[38;5;124;03m    y_pred : array or indicator matrix\u001b[39;00m\n\u001b[0;32m     83\u001b[0m \u001b[38;5;124;03m    \"\"\"\u001b[39;00m\n\u001b[1;32m---> 84\u001b[0m     \u001b[43mcheck_consistent_length\u001b[49m\u001b[43m(\u001b[49m\u001b[43my_true\u001b[49m\u001b[43m,\u001b[49m\u001b[43m \u001b[49m\u001b[43my_pred\u001b[49m\u001b[43m)\u001b[49m\n\u001b[0;32m     85\u001b[0m     type_true \u001b[38;5;241m=\u001b[39m type_of_target(y_true, input_name\u001b[38;5;241m=\u001b[39m\u001b[38;5;124m\"\u001b[39m\u001b[38;5;124my_true\u001b[39m\u001b[38;5;124m\"\u001b[39m)\n\u001b[0;32m     86\u001b[0m     type_pred \u001b[38;5;241m=\u001b[39m type_of_target(y_pred, input_name\u001b[38;5;241m=\u001b[39m\u001b[38;5;124m\"\u001b[39m\u001b[38;5;124my_pred\u001b[39m\u001b[38;5;124m\"\u001b[39m)\n",
      "File \u001b[1;32mc:\\users\\vansh\\appdata\\local\\programs\\python\\python39\\lib\\site-packages\\sklearn\\utils\\validation.py:407\u001b[0m, in \u001b[0;36mcheck_consistent_length\u001b[1;34m(*arrays)\u001b[0m\n\u001b[0;32m    405\u001b[0m uniques \u001b[38;5;241m=\u001b[39m np\u001b[38;5;241m.\u001b[39munique(lengths)\n\u001b[0;32m    406\u001b[0m \u001b[38;5;28;01mif\u001b[39;00m \u001b[38;5;28mlen\u001b[39m(uniques) \u001b[38;5;241m>\u001b[39m \u001b[38;5;241m1\u001b[39m:\n\u001b[1;32m--> 407\u001b[0m     \u001b[38;5;28;01mraise\u001b[39;00m \u001b[38;5;167;01mValueError\u001b[39;00m(\n\u001b[0;32m    408\u001b[0m         \u001b[38;5;124m\"\u001b[39m\u001b[38;5;124mFound input variables with inconsistent numbers of samples: \u001b[39m\u001b[38;5;132;01m%r\u001b[39;00m\u001b[38;5;124m\"\u001b[39m\n\u001b[0;32m    409\u001b[0m         \u001b[38;5;241m%\u001b[39m [\u001b[38;5;28mint\u001b[39m(l) \u001b[38;5;28;01mfor\u001b[39;00m l \u001b[38;5;129;01min\u001b[39;00m lengths]\n\u001b[0;32m    410\u001b[0m     )\n",
      "\u001b[1;31mValueError\u001b[0m: Found input variables with inconsistent numbers of samples: [28821, 7066]"
     ]
    }
   ],
   "source": [
    "confusion_matrix(y_train, y_test, labels=[\"1\", \"2\", \"3\", \"4\", \"5\", \"6\"])"
   ]
  },
  {
   "cell_type": "code",
   "execution_count": null,
   "id": "e824f159-8d67-42e3-8ecc-a37715ef52af",
   "metadata": {},
   "outputs": [],
   "source": []
  }
 ],
 "metadata": {
  "kernelspec": {
   "display_name": "Python 3 (ipykernel)",
   "language": "python",
   "name": "python3"
  },
  "language_info": {
   "codemirror_mode": {
    "name": "ipython",
    "version": 3
   },
   "file_extension": ".py",
   "mimetype": "text/x-python",
   "name": "python",
   "nbconvert_exporter": "python",
   "pygments_lexer": "ipython3",
   "version": "3.9.6"
  }
 },
 "nbformat": 4,
 "nbformat_minor": 5
}
